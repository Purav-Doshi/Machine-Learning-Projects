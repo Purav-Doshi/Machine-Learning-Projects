{
  "nbformat": 4,
  "nbformat_minor": 0,
  "metadata": {
    "colab": {
      "provenance": [],
      "authorship_tag": "ABX9TyMn3BlxsLuyIY16sO2T8Tfq"
    },
    "kernelspec": {
      "name": "python3",
      "display_name": "Python 3"
    },
    "language_info": {
      "name": "python"
    }
  },
  "cells": [
    {
      "cell_type": "code",
      "execution_count": 37,
      "metadata": {
        "id": "mARW9Bdj3jit"
      },
      "outputs": [],
      "source": [
        "import numpy as np\n",
        "import pandas as pd\n",
        "import matplotlib.pyplot as plt\n",
        "import seaborn as sns"
      ]
    },
    {
      "cell_type": "code",
      "source": [
        "df=pd.read_csv('sonar.csv', header=None) # we use the header attribute as there are no column names\n",
        "df.head()"
      ],
      "metadata": {
        "id": "rGrjOBO733eN"
      },
      "execution_count": null,
      "outputs": []
    },
    {
      "cell_type": "code",
      "source": [
        "# Information about the data\n",
        "df.shape\n",
        "df.info()\n",
        "df.describe()"
      ],
      "metadata": {
        "id": "F_GpawnR4IOB"
      },
      "execution_count": null,
      "outputs": []
    },
    {
      "cell_type": "code",
      "source": [
        "# Data preprocessing\n",
        "# 1. Dealing with missing values\n",
        "df.isnull().sum()\n",
        "df.columns\n",
        "# 2. Visualising the data to find information about the target variable\n",
        "df[60].value_counts()\n",
        "sns.histplot(df[60])\n",
        "plt.xlabel(\"Rock v/s Mine\")\n",
        "plt.ylabel(\"Count\")\n",
        "plt.show()"
      ],
      "metadata": {
        "id": "ErsV5hIE4Xya"
      },
      "execution_count": null,
      "outputs": []
    },
    {
      "cell_type": "code",
      "source": [
        "# 3. One hot encoding for categorical values\n",
        "df=pd.get_dummies(df,columns=[60],drop_first=True)\n",
        "df.head()"
      ],
      "metadata": {
        "id": "HZ_dNRuS7JFP"
      },
      "execution_count": null,
      "outputs": []
    },
    {
      "cell_type": "code",
      "source": [
        "df_2=df.drop(columns=['60_R'])\n",
        "df_2.head()\n",
        "df_2.corrwith(df['60_R']).plot.bar(\n",
        "    figsize=(20,10), title=\"Correlation\", rot=45, grid=True\n",
        ")\n",
        "plt.show()"
      ],
      "metadata": {
        "id": "E3y-wQUq_BUU"
      },
      "execution_count": null,
      "outputs": []
    },
    {
      "cell_type": "code",
      "source": [
        "# 4. Establishing a correlation matrix\n",
        "corr=df.corr()\n",
        "corr"
      ],
      "metadata": {
        "id": "gBa0r2Wl_XMW"
      },
      "execution_count": null,
      "outputs": []
    },
    {
      "cell_type": "code",
      "source": [
        "# 5. Plotting a heatmap of the correlation matrix\n",
        "plt.figure(figsize=(20,10))\n",
        "sns.heatmap(corr,annot=False)"
      ],
      "metadata": {
        "id": "wzsR3cz7AKae"
      },
      "execution_count": null,
      "outputs": []
    },
    {
      "cell_type": "code",
      "source": [
        "x=df.drop(columns='60_R')\n",
        "y=df['60_R']\n",
        "y.shape\n",
        "x.shape"
      ],
      "metadata": {
        "id": "7_RNlFa1C_oV"
      },
      "execution_count": null,
      "outputs": []
    },
    {
      "cell_type": "code",
      "source": [
        "# Splitting into training and testing data\n",
        "from sklearn.model_selection import train_test_split\n",
        "x_train,x_test,y_train,y_test=train_test_split(x,y,test_size=0.2,random_state=0)\n",
        "x_train.shape\n",
        "x_test.shape\n",
        "y_train.shape\n",
        "y_test.shape"
      ],
      "metadata": {
        "id": "oqtm21hzAobw"
      },
      "execution_count": null,
      "outputs": []
    },
    {
      "cell_type": "code",
      "source": [
        "# Building the model\n",
        "from sklearn.linear_model import LogisticRegression\n",
        "clf_1=LogisticRegression()\n",
        "clf_1.fit(x_train,y_train)\n",
        "y_pred=clf_1.predict(x_test)"
      ],
      "metadata": {
        "id": "dAyN1pcMBZ0R"
      },
      "execution_count": 59,
      "outputs": []
    },
    {
      "cell_type": "code",
      "source": [
        "from sklearn.metrics import accuracy_score,f1_score,precision_score,recall_score\n",
        "acc=accuracy_score(y_test,y_pred)\n",
        "f1=f1_score(y_test,y_pred)\n",
        "precision=precision_score(y_test,y_pred)\n",
        "recall=recall_score(y_test,y_pred)"
      ],
      "metadata": {
        "id": "MjJGJhc5DgYe"
      },
      "execution_count": 63,
      "outputs": []
    },
    {
      "cell_type": "code",
      "source": [
        "results=pd.DataFrame([['Logistic Regression',acc,f1,precision,recall]],\n",
        "                     columns=['Model','Accuracy Score','F1 Score','Precision','Recall'])\n",
        "results"
      ],
      "metadata": {
        "colab": {
          "base_uri": "https://localhost:8080/",
          "height": 89
        },
        "id": "kAPlnHi0EHnR",
        "outputId": "53c413a8-c8b5-43bb-d4d0-eb2988744c5b"
      },
      "execution_count": 64,
      "outputs": [
        {
          "output_type": "execute_result",
          "data": {
            "text/plain": [
              "                 Model  Accuracy Score  F1 Score  Precision    Recall\n",
              "0  Logistic Regression        0.833333  0.810811     0.9375  0.714286"
            ],
            "text/html": [
              "\n",
              "  <div id=\"df-bf4cae3c-2a1e-413c-a180-a1e729c1c035\" class=\"colab-df-container\">\n",
              "    <div>\n",
              "<style scoped>\n",
              "    .dataframe tbody tr th:only-of-type {\n",
              "        vertical-align: middle;\n",
              "    }\n",
              "\n",
              "    .dataframe tbody tr th {\n",
              "        vertical-align: top;\n",
              "    }\n",
              "\n",
              "    .dataframe thead th {\n",
              "        text-align: right;\n",
              "    }\n",
              "</style>\n",
              "<table border=\"1\" class=\"dataframe\">\n",
              "  <thead>\n",
              "    <tr style=\"text-align: right;\">\n",
              "      <th></th>\n",
              "      <th>Model</th>\n",
              "      <th>Accuracy Score</th>\n",
              "      <th>F1 Score</th>\n",
              "      <th>Precision</th>\n",
              "      <th>Recall</th>\n",
              "    </tr>\n",
              "  </thead>\n",
              "  <tbody>\n",
              "    <tr>\n",
              "      <th>0</th>\n",
              "      <td>Logistic Regression</td>\n",
              "      <td>0.833333</td>\n",
              "      <td>0.810811</td>\n",
              "      <td>0.9375</td>\n",
              "      <td>0.714286</td>\n",
              "    </tr>\n",
              "  </tbody>\n",
              "</table>\n",
              "</div>\n",
              "    <div class=\"colab-df-buttons\">\n",
              "\n",
              "  <div class=\"colab-df-container\">\n",
              "    <button class=\"colab-df-convert\" onclick=\"convertToInteractive('df-bf4cae3c-2a1e-413c-a180-a1e729c1c035')\"\n",
              "            title=\"Convert this dataframe to an interactive table.\"\n",
              "            style=\"display:none;\">\n",
              "\n",
              "  <svg xmlns=\"http://www.w3.org/2000/svg\" height=\"24px\" viewBox=\"0 -960 960 960\">\n",
              "    <path d=\"M120-120v-720h720v720H120Zm60-500h600v-160H180v160Zm220 220h160v-160H400v160Zm0 220h160v-160H400v160ZM180-400h160v-160H180v160Zm440 0h160v-160H620v160ZM180-180h160v-160H180v160Zm440 0h160v-160H620v160Z\"/>\n",
              "  </svg>\n",
              "    </button>\n",
              "\n",
              "  <style>\n",
              "    .colab-df-container {\n",
              "      display:flex;\n",
              "      gap: 12px;\n",
              "    }\n",
              "\n",
              "    .colab-df-convert {\n",
              "      background-color: #E8F0FE;\n",
              "      border: none;\n",
              "      border-radius: 50%;\n",
              "      cursor: pointer;\n",
              "      display: none;\n",
              "      fill: #1967D2;\n",
              "      height: 32px;\n",
              "      padding: 0 0 0 0;\n",
              "      width: 32px;\n",
              "    }\n",
              "\n",
              "    .colab-df-convert:hover {\n",
              "      background-color: #E2EBFA;\n",
              "      box-shadow: 0px 1px 2px rgba(60, 64, 67, 0.3), 0px 1px 3px 1px rgba(60, 64, 67, 0.15);\n",
              "      fill: #174EA6;\n",
              "    }\n",
              "\n",
              "    .colab-df-buttons div {\n",
              "      margin-bottom: 4px;\n",
              "    }\n",
              "\n",
              "    [theme=dark] .colab-df-convert {\n",
              "      background-color: #3B4455;\n",
              "      fill: #D2E3FC;\n",
              "    }\n",
              "\n",
              "    [theme=dark] .colab-df-convert:hover {\n",
              "      background-color: #434B5C;\n",
              "      box-shadow: 0px 1px 3px 1px rgba(0, 0, 0, 0.15);\n",
              "      filter: drop-shadow(0px 1px 2px rgba(0, 0, 0, 0.3));\n",
              "      fill: #FFFFFF;\n",
              "    }\n",
              "  </style>\n",
              "\n",
              "    <script>\n",
              "      const buttonEl =\n",
              "        document.querySelector('#df-bf4cae3c-2a1e-413c-a180-a1e729c1c035 button.colab-df-convert');\n",
              "      buttonEl.style.display =\n",
              "        google.colab.kernel.accessAllowed ? 'block' : 'none';\n",
              "\n",
              "      async function convertToInteractive(key) {\n",
              "        const element = document.querySelector('#df-bf4cae3c-2a1e-413c-a180-a1e729c1c035');\n",
              "        const dataTable =\n",
              "          await google.colab.kernel.invokeFunction('convertToInteractive',\n",
              "                                                    [key], {});\n",
              "        if (!dataTable) return;\n",
              "\n",
              "        const docLinkHtml = 'Like what you see? Visit the ' +\n",
              "          '<a target=\"_blank\" href=https://colab.research.google.com/notebooks/data_table.ipynb>data table notebook</a>'\n",
              "          + ' to learn more about interactive tables.';\n",
              "        element.innerHTML = '';\n",
              "        dataTable['output_type'] = 'display_data';\n",
              "        await google.colab.output.renderOutput(dataTable, element);\n",
              "        const docLink = document.createElement('div');\n",
              "        docLink.innerHTML = docLinkHtml;\n",
              "        element.appendChild(docLink);\n",
              "      }\n",
              "    </script>\n",
              "  </div>\n",
              "\n",
              "\n",
              "  <div id=\"id_a67d2766-63cc-425f-8bcf-ed475dce3064\">\n",
              "    <style>\n",
              "      .colab-df-generate {\n",
              "        background-color: #E8F0FE;\n",
              "        border: none;\n",
              "        border-radius: 50%;\n",
              "        cursor: pointer;\n",
              "        display: none;\n",
              "        fill: #1967D2;\n",
              "        height: 32px;\n",
              "        padding: 0 0 0 0;\n",
              "        width: 32px;\n",
              "      }\n",
              "\n",
              "      .colab-df-generate:hover {\n",
              "        background-color: #E2EBFA;\n",
              "        box-shadow: 0px 1px 2px rgba(60, 64, 67, 0.3), 0px 1px 3px 1px rgba(60, 64, 67, 0.15);\n",
              "        fill: #174EA6;\n",
              "      }\n",
              "\n",
              "      [theme=dark] .colab-df-generate {\n",
              "        background-color: #3B4455;\n",
              "        fill: #D2E3FC;\n",
              "      }\n",
              "\n",
              "      [theme=dark] .colab-df-generate:hover {\n",
              "        background-color: #434B5C;\n",
              "        box-shadow: 0px 1px 3px 1px rgba(0, 0, 0, 0.15);\n",
              "        filter: drop-shadow(0px 1px 2px rgba(0, 0, 0, 0.3));\n",
              "        fill: #FFFFFF;\n",
              "      }\n",
              "    </style>\n",
              "    <button class=\"colab-df-generate\" onclick=\"generateWithVariable('results')\"\n",
              "            title=\"Generate code using this dataframe.\"\n",
              "            style=\"display:none;\">\n",
              "\n",
              "  <svg xmlns=\"http://www.w3.org/2000/svg\" height=\"24px\"viewBox=\"0 0 24 24\"\n",
              "       width=\"24px\">\n",
              "    <path d=\"M7,19H8.4L18.45,9,17,7.55,7,17.6ZM5,21V16.75L18.45,3.32a2,2,0,0,1,2.83,0l1.4,1.43a1.91,1.91,0,0,1,.58,1.4,1.91,1.91,0,0,1-.58,1.4L9.25,21ZM18.45,9,17,7.55Zm-12,3A5.31,5.31,0,0,0,4.9,8.1,5.31,5.31,0,0,0,1,6.5,5.31,5.31,0,0,0,4.9,4.9,5.31,5.31,0,0,0,6.5,1,5.31,5.31,0,0,0,8.1,4.9,5.31,5.31,0,0,0,12,6.5,5.46,5.46,0,0,0,6.5,12Z\"/>\n",
              "  </svg>\n",
              "    </button>\n",
              "    <script>\n",
              "      (() => {\n",
              "      const buttonEl =\n",
              "        document.querySelector('#id_a67d2766-63cc-425f-8bcf-ed475dce3064 button.colab-df-generate');\n",
              "      buttonEl.style.display =\n",
              "        google.colab.kernel.accessAllowed ? 'block' : 'none';\n",
              "\n",
              "      buttonEl.onclick = () => {\n",
              "        google.colab.notebook.generateWithVariable('results');\n",
              "      }\n",
              "      })();\n",
              "    </script>\n",
              "  </div>\n",
              "\n",
              "    </div>\n",
              "  </div>\n"
            ],
            "application/vnd.google.colaboratory.intrinsic+json": {
              "type": "dataframe",
              "variable_name": "results",
              "summary": "{\n  \"name\": \"results\",\n  \"rows\": 1,\n  \"fields\": [\n    {\n      \"column\": \"Model\",\n      \"properties\": {\n        \"dtype\": \"string\",\n        \"num_unique_values\": 1,\n        \"samples\": [\n          \"Logistic Regression\"\n        ],\n        \"semantic_type\": \"\",\n        \"description\": \"\"\n      }\n    },\n    {\n      \"column\": \"Accuracy Score\",\n      \"properties\": {\n        \"dtype\": \"number\",\n        \"std\": null,\n        \"min\": 0.8333333333333334,\n        \"max\": 0.8333333333333334,\n        \"num_unique_values\": 1,\n        \"samples\": [\n          0.8333333333333334\n        ],\n        \"semantic_type\": \"\",\n        \"description\": \"\"\n      }\n    },\n    {\n      \"column\": \"F1 Score\",\n      \"properties\": {\n        \"dtype\": \"number\",\n        \"std\": null,\n        \"min\": 0.8108108108108109,\n        \"max\": 0.8108108108108109,\n        \"num_unique_values\": 1,\n        \"samples\": [\n          0.8108108108108109\n        ],\n        \"semantic_type\": \"\",\n        \"description\": \"\"\n      }\n    },\n    {\n      \"column\": \"Precision\",\n      \"properties\": {\n        \"dtype\": \"number\",\n        \"std\": null,\n        \"min\": 0.9375,\n        \"max\": 0.9375,\n        \"num_unique_values\": 1,\n        \"samples\": [\n          0.9375\n        ],\n        \"semantic_type\": \"\",\n        \"description\": \"\"\n      }\n    },\n    {\n      \"column\": \"Recall\",\n      \"properties\": {\n        \"dtype\": \"number\",\n        \"std\": null,\n        \"min\": 0.7142857142857143,\n        \"max\": 0.7142857142857143,\n        \"num_unique_values\": 1,\n        \"samples\": [\n          0.7142857142857143\n        ],\n        \"semantic_type\": \"\",\n        \"description\": \"\"\n      }\n    }\n  ]\n}"
            }
          },
          "metadata": {},
          "execution_count": 64
        }
      ]
    },
    {
      "cell_type": "code",
      "source": [
        "from sklearn.model_selection import cross_val_score\n",
        "cv_score=cross_val_score(clf_1,x_train,y_train,cv=10)\n",
        "accuracy=np.mean(cv_score*100)\n",
        "deviation=np.std(cv_score*100)\n",
        "print(accuracy,\"%\")\n",
        "print(deviation,\"%\")"
      ],
      "metadata": {
        "colab": {
          "base_uri": "https://localhost:8080/"
        },
        "id": "5xJrn7BlEwqj",
        "outputId": "addab5b0-e644-4005-9a77-e6a47173021d"
      },
      "execution_count": 66,
      "outputs": [
        {
          "output_type": "stream",
          "name": "stdout",
          "text": [
            "76.54411764705883 %\n",
            "7.317561943896896 %\n"
          ]
        }
      ]
    },
    {
      "cell_type": "code",
      "source": [
        "from sklearn.ensemble import RandomForestClassifier\n",
        "clf_2=RandomForestClassifier()\n",
        "clf_2.fit(x_train,y_train)\n",
        "y_pred2=clf_2.predict(x_test)"
      ],
      "metadata": {
        "id": "p0r-VjVpF0D7"
      },
      "execution_count": 68,
      "outputs": []
    },
    {
      "cell_type": "code",
      "source": [
        "from sklearn.metrics import accuracy_score,f1_score,precision_score,recall_score\n",
        "acc=accuracy_score(y_test,y_pred2)\n",
        "f1=f1_score(y_test,y_pred2)\n",
        "precision=precision_score(y_test,y_pred2)\n",
        "recall=recall_score(y_test,y_pred2)"
      ],
      "metadata": {
        "id": "y007gbnBGRSg"
      },
      "execution_count": 69,
      "outputs": []
    },
    {
      "cell_type": "code",
      "source": [
        "results=pd.DataFrame([['Random Forest',acc,f1,precision,recall]],\n",
        "                     columns=['Model','Accuracy Score','F1 Score','Precision','Recall'])\n",
        "results"
      ],
      "metadata": {
        "id": "dqt1jsGNGbxF"
      },
      "execution_count": null,
      "outputs": []
    },
    {
      "cell_type": "code",
      "source": [
        "from sklearn.model_selection import cross_val_score\n",
        "cv_score=cross_val_score(clf_2,x_train,y_train,cv=10)\n",
        "accuracy=np.mean(cv_score*100)\n",
        "deviation=np.std(cv_score*100)\n",
        "print(accuracy,\"%\")\n",
        "print(deviation,\"%\")"
      ],
      "metadata": {
        "colab": {
          "base_uri": "https://localhost:8080/"
        },
        "id": "k6dRlOl-Gkiq",
        "outputId": "d7b2490d-280c-4f57-8388-3168cf6731a0"
      },
      "execution_count": 71,
      "outputs": [
        {
          "output_type": "stream",
          "name": "stdout",
          "text": [
            "81.80147058823529 %\n",
            "9.698150329299322 %\n"
          ]
        }
      ]
    },
    {
      "cell_type": "code",
      "source": [
        "# Building the final model\n",
        "from sklearn.ensemble import RandomForestClassifier\n",
        "clf_final=RandomForestClassifier()\n",
        "clf_final.fit(x_train,y_train)\n",
        "y_pred_final=clf_final.predict(x_test)"
      ],
      "metadata": {
        "id": "kHoTPjmxG3gv"
      },
      "execution_count": 72,
      "outputs": []
    },
    {
      "cell_type": "code",
      "source": [
        "# Predicting a single value\n",
        "single_obs=[[0.0114,0.0222,0.0269,0.0384,0.1217,0.2062,0.1489,0.0929,0.1350,0.1799,0.2486,0.2973,0.3672,0.4394,0.5258,0.6755,0.7402,0.8284,0.9033,0.9584,1.0000,0.9982,0.8899,0.7493,0.6367,0.6744,0.7207,0.6821,0.5512,0.4789,0.3924,0.2533,0.1089,0.1390,0.2551,0.3301,0.2818,0.2142,0.2266,0.2142,0.2354,0.2871,0.2596,0.1925,0.1256,0.1003,0.0951,0.1210,0.0728,0.0174,0.0213,0.0269,0.0152,0.0257,0.0097,0.0041,0.0050,0.0145,0.0103,0.0025]]\n",
        "prediction=clf_final.predict(single_obs)\n",
        "if(prediction==1):\n",
        "  print(\"It is a rock\")\n",
        "else:\n",
        "  print(\"It is a mine\")"
      ],
      "metadata": {
        "colab": {
          "base_uri": "https://localhost:8080/"
        },
        "id": "1UrcQQPzHVPV",
        "outputId": "af8891d1-2fb0-4555-ae58-9d3ef542286a"
      },
      "execution_count": 73,
      "outputs": [
        {
          "output_type": "stream",
          "name": "stdout",
          "text": [
            "It is a mine\n"
          ]
        }
      ]
    }
  ]
}